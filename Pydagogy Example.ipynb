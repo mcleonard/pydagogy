{
 "cells": [
  {
   "cell_type": "markdown",
   "metadata": {},
   "source": [
    "# Pydagogy\n",
    "\n",
    "Pydagogy is a Python library for providing feedback to students working on coding exercises. I'm building this with online courses in mind. Students in online courses often don't have access to immediate help, either from instructors, mentors, or other students. Typically this results in students getting stuck on coding exercises, leading to frustration and disengagement. Pydagogy provides code checkers that students can use to provide help, solutions, and feedback while they are working on their exercises.\n",
    "\n",
    "Content developers use Pydagogy to create code checkers. These checkers provide hints and solutions, as well as check if a student's results are correct. These checkers sit in a file separate from the main Python file with the exercise code. The checkers are imported into the main file, then used by the student to print out assistance and check their work.\n",
    "\n",
    "Here's a short demonstration."
   ]
  },
  {
   "cell_type": "code",
   "execution_count": 1,
   "metadata": {},
   "outputs": [],
   "source": [
    "import pydagogy as pgy"
   ]
  },
  {
   "cell_type": "markdown",
   "metadata": {},
   "source": [
    "Let's assume students are supposed to write some code and obtain a result of 10. The content developer would create a `ValueTest` and optionally include a tolerance (useful if you're dealing with floating point numbers)."
   ]
  },
  {
   "cell_type": "code",
   "execution_count": 4,
   "metadata": {},
   "outputs": [],
   "source": [
    "# Create our test for problem 1. The expected result is 10, we allow a tolerance of 0.005.\n",
    "test_p1 = pgy.ValueTest(10, 0.005)\n",
    "test_p1.hint = \"Example hint string\"\n",
    "test_p1.solution = \"Example solution string\"\n",
    "test_p1.success = \"You're right, nice job!\""
   ]
  },
  {
   "cell_type": "markdown",
   "metadata": {},
   "source": [
    "This code sits in a file alongside the main exercise code. The tests are imported into the main code and run by the students.\n",
    "\n",
    "For example, students can look at the hint or solution in their terminal or notebook. These are printed to stdout."
   ]
  },
  {
   "cell_type": "code",
   "execution_count": 5,
   "metadata": {},
   "outputs": [
    {
     "name": "stdout",
     "output_type": "stream",
     "text": [
      "\u001b[1;33mHint: \u001b[0mExample hint string\n",
      "\u001b[1;34mSolution: \u001b[0mExample solution string\n"
     ]
    }
   ],
   "source": [
    "test_p1.hint\n",
    "test_p1.solution"
   ]
  },
  {
   "cell_type": "markdown",
   "metadata": {},
   "source": [
    "If the student gets the correct result..."
   ]
  },
  {
   "cell_type": "code",
   "execution_count": 6,
   "metadata": {},
   "outputs": [
    {
     "name": "stdout",
     "output_type": "stream",
     "text": [
      "\u001b[1;32mSuccess: \u001b[0mYou're right, nice job!\n"
     ]
    },
    {
     "data": {
      "text/plain": [
       "True"
      ]
     },
     "execution_count": 6,
     "metadata": {},
     "output_type": "execute_result"
    }
   ],
   "source": [
    "# Student writes some code...\n",
    "result = 10.004\n",
    "\n",
    "test_p1.check(result)"
   ]
  },
  {
   "cell_type": "markdown",
   "metadata": {},
   "source": [
    "And if they don't..."
   ]
  },
  {
   "cell_type": "code",
   "execution_count": 7,
   "metadata": {},
   "outputs": [
    {
     "name": "stdout",
     "output_type": "stream",
     "text": [
      "\u001b[1;31mTest failed: \u001b[0mExpected to get 10, you passed 9 instead.\n"
     ]
    },
    {
     "data": {
      "text/plain": [
       "False"
      ]
     },
     "execution_count": 7,
     "metadata": {},
     "output_type": "execute_result"
    }
   ],
   "source": [
    "# Student writes some code...\n",
    "result = 9\n",
    "\n",
    "test_p1.check(result)"
   ]
  }
 ],
 "metadata": {
  "kernelspec": {
   "display_name": "Python 3",
   "language": "python",
   "name": "python3"
  },
  "language_info": {
   "codemirror_mode": {
    "name": "ipython",
    "version": 3
   },
   "file_extension": ".py",
   "mimetype": "text/x-python",
   "name": "python",
   "nbconvert_exporter": "python",
   "pygments_lexer": "ipython3",
   "version": "3.8.5"
  }
 },
 "nbformat": 4,
 "nbformat_minor": 4
}
